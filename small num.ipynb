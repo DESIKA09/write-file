{
 "cells": [
  {
   "cell_type": "code",
   "execution_count": 1,
   "id": "317f2e09",
   "metadata": {},
   "outputs": [
    {
     "name": "stdout",
     "output_type": "stream",
     "text": [
      "enter a number1=9\n"
     ]
    }
   ],
   "source": [
    "a=int(input ('enter a number1='))"
   ]
  },
  {
   "cell_type": "code",
   "execution_count": 2,
   "id": "526fead2",
   "metadata": {},
   "outputs": [
    {
     "name": "stdout",
     "output_type": "stream",
     "text": [
      "enter a number1=4\n"
     ]
    }
   ],
   "source": [
    "b=int(input ('enter a number1='))"
   ]
  },
  {
   "cell_type": "code",
   "execution_count": 3,
   "id": "df3a2a61",
   "metadata": {},
   "outputs": [
    {
     "name": "stdout",
     "output_type": "stream",
     "text": [
      "The smaller number is=4\n"
     ]
    }
   ],
   "source": [
    "if a<b:\n",
    "    print('The smaller number is={}'.format(a))\n",
    "else:\n",
    "    print('The smaller number is={}'.format(b))"
   ]
  },
  {
   "cell_type": "code",
   "execution_count": null,
   "id": "0659f0b5",
   "metadata": {},
   "outputs": [],
   "source": []
  }
 ],
 "metadata": {
  "kernelspec": {
   "display_name": "Python 3 (ipykernel)",
   "language": "python",
   "name": "python3"
  },
  "language_info": {
   "codemirror_mode": {
    "name": "ipython",
    "version": 3
   },
   "file_extension": ".py",
   "mimetype": "text/x-python",
   "name": "python",
   "nbconvert_exporter": "python",
   "pygments_lexer": "ipython3",
   "version": "3.9.12"
  }
 },
 "nbformat": 4,
 "nbformat_minor": 5
}
