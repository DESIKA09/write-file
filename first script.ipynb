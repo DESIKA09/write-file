{
 "cells": [
  {
   "cell_type": "code",
   "execution_count": 13,
   "id": "018a4b8c",
   "metadata": {},
   "outputs": [
    {
     "name": "stdout",
     "output_type": "stream",
     "text": [
      "Overwriting script1.py\n"
     ]
    }
   ],
   "source": [
    "%%writefile script1.py\n",
    "a=int(input ('enter a number1='))\n",
    "b=int(input ('enter a number2='))\n",
    "if a>b:\n",
    "    print(a)\n",
    "else:\n",
    "    print(b)"
   ]
  },
  {
   "cell_type": "code",
   "execution_count": 8,
   "id": "a3c2e29d",
   "metadata": {},
   "outputs": [
    {
     "name": "stdout",
     "output_type": "stream",
     "text": [
      "enter a number1=1\n"
     ]
    }
   ],
   "source": [
    "a=int(input ('enter a number1='))"
   ]
  },
  {
   "cell_type": "code",
   "execution_count": 9,
   "id": "2cdbc5af",
   "metadata": {},
   "outputs": [
    {
     "name": "stdout",
     "output_type": "stream",
     "text": [
      "enter a number2=3\n"
     ]
    }
   ],
   "source": [
    "b=int(input ('enter a number1='))"
   ]
  },
  {
   "cell_type": "code",
   "execution_count": 12,
   "id": "ca5a1ddd",
   "metadata": {},
   "outputs": [
    {
     "name": "stdout",
     "output_type": "stream",
     "text": [
      "3\n"
     ]
    }
   ],
   "source": [
    "if a>b:\n",
    "    print(a)\n",
    "else:\n",
    "    print(b)"
   ]
  },
  {
   "cell_type": "code",
   "execution_count": null,
   "id": "e34942e8",
   "metadata": {},
   "outputs": [],
   "source": []
  }
 ],
 "metadata": {
  "kernelspec": {
   "display_name": "Python 3 (ipykernel)",
   "language": "python",
   "name": "python3"
  },
  "language_info": {
   "codemirror_mode": {
    "name": "ipython",
    "version": 3
   },
   "file_extension": ".py",
   "mimetype": "text/x-python",
   "name": "python",
   "nbconvert_exporter": "python",
   "pygments_lexer": "ipython3",
   "version": "3.9.12"
  }
 },
 "nbformat": 4,
 "nbformat_minor": 5
}
